{
  "nbformat": 4,
  "nbformat_minor": 0,
  "metadata": {
    "colab": {
      "name": "ep1.ipynb",
      "provenance": [],
      "collapsed_sections": [],
      "authorship_tag": "ABX9TyPrjqKoOXSbiU5bpLa+QbaH",
      "include_colab_link": true
    },
    "kernelspec": {
      "name": "python3",
      "display_name": "Python 3"
    }
  },
  "cells": [
    {
      "cell_type": "markdown",
      "metadata": {
        "id": "view-in-github",
        "colab_type": "text"
      },
      "source": [
        "<a href=\"https://colab.research.google.com/github/AtaruOhto/python_basic/blob/master/ep1.ipynb\" target=\"_parent\"><img src=\"https://colab.research.google.com/assets/colab-badge.svg\" alt=\"Open In Colab\"/></a>"
      ]
    },
    {
      "cell_type": "markdown",
      "metadata": {
        "id": "VZ_kkOjRTw5z",
        "colab_type": "text"
      },
      "source": [
        "参考文献: Effective Python "
      ]
    },
    {
      "cell_type": "markdown",
      "metadata": {
        "id": "0Z3JFrP0-mbY",
        "colab_type": "text"
      },
      "source": [
        "アンパック構文を使うことで、一時変数なしで、値の交換ができる。"
      ]
    },
    {
      "cell_type": "markdown",
      "metadata": {
        "id": "WclQCapH-jhY",
        "colab_type": "text"
      },
      "source": [
        ""
      ]
    },
    {
      "cell_type": "code",
      "metadata": {
        "id": "MSQ2sxO--gdy",
        "colab_type": "code",
        "colab": {
          "base_uri": "https://localhost:8080/",
          "height": 34
        },
        "outputId": "54a6d5ac-37e8-4039-ad5a-150830637c20"
      },
      "source": [
        "\n",
        "names = [\"pretzel\", \"carrots\", \"arugula\", \"bacon\"]\n",
        "\n",
        "# Before\n",
        "def bubble_sort(a):\n",
        "  for _ in range(len(a)):\n",
        "    for i  in range(1, len(a)):\n",
        "      if a[i] < a[i-1]:\n",
        "        temp = a[i]\n",
        "        a[i] = a[i-1]\n",
        "        a[i-1] = temp\n",
        "\n",
        "bubble_sort(names)\n",
        "print(names)        \n",
        "\n",
        "\n",
        "# After\n",
        "def bubble_sort(a):\n",
        "  for _ in range(len(a)):\n",
        "    for i in range(1, len(a)):\n",
        "      if a[i] < a[i-1]:\n",
        "        a[i-1], a[i] = a[i], a[i-1] # スワップ\n",
        "        # アンパック構文を使ってタプルの値を取り出して、交換を行う。\n",
        "        # 値を取り出された無名タプルは最後に破棄される。\n",
        "        # 一時変数による値の退避が必要なくなる\n",
        "\n",
        "bubble_sort(names)\n",
        "print(names)        "
      ],
      "execution_count": 9,
      "outputs": [
        {
          "output_type": "stream",
          "text": [
            "['arugula', 'bacon', 'carrots', 'pretzel']\n"
          ],
          "name": "stdout"
        }
      ]
    },
    {
      "cell_type": "markdown",
      "metadata": {
        "id": "YnBXcC1fT738",
        "colab_type": "text"
      },
      "source": [
        "enumerateと併せて使用する\n"
      ]
    },
    {
      "cell_type": "code",
      "metadata": {
        "id": "67-m796qNPfo",
        "colab_type": "code",
        "colab": {
          "base_uri": "https://localhost:8080/",
          "height": 119
        },
        "outputId": "1f9d2191-a56f-409f-c1e4-dbe980ac26fa"
      },
      "source": [
        "# Before\n",
        "snacks = [(\"bacon\", 350), (\"donut\", 240), (\"muffin\", 190)]\n",
        "for i in range(len(snacks)):\n",
        "  item = snacks[i]\n",
        "  name = item[0]\n",
        "  calories = item[1]\n",
        "  print(f\"{name} {calories}\")\n",
        "\n",
        "# After\n",
        "snacks = [(\"bacon\", 350), (\"donut\", 240), (\"muffin\", 190)]\n",
        "for rank, (name, calories) in enumerate(snacks):\n",
        "  print(f\"{name} {calories}\")  "
      ],
      "execution_count": 20,
      "outputs": [
        {
          "output_type": "stream",
          "text": [
            "bacon 350\n",
            "donut 240\n",
            "muffin 190\n",
            "bacon 350\n",
            "donut 240\n",
            "muffin 190\n"
          ],
          "name": "stdout"
        }
      ]
    },
    {
      "cell_type": "code",
      "metadata": {
        "id": "v0-wk7EDSbV5",
        "colab_type": "code",
        "colab": {
          "base_uri": "https://localhost:8080/",
          "height": 187
        },
        "outputId": "4ceb8798-cd4d-43c9-8935-9444f964a1ad"
      },
      "source": [
        "# データに加えて、インデックスが必要な場合、rangeではなく enumerableを使う\n",
        "\n",
        "# Before\n",
        "flavor_list = [\"vanilla\", \"chocolate\", \"pecan\", \"strawberry\"]\n",
        "for i in range(len(flavor_list)):\n",
        "  print(f\"{i + 1} {flavor_list[i]}\")\n",
        "\n",
        "# After\n",
        "# enumerateの第二引数でカウントの開始数を指定できる。\n",
        "for i, flavor in enumerate(flavor_list, 1):  \n",
        "  print(f\"{i} {flavor}\")\n",
        "\n"
      ],
      "execution_count": 19,
      "outputs": [
        {
          "output_type": "stream",
          "text": [
            "Before\n",
            "1 vanilla\n",
            "2 chocolate\n",
            "3 pecan\n",
            "4 strawberry\n",
            "After\n",
            "1 vanilla\n",
            "2 chocolate\n",
            "3 pecan\n",
            "4 strawberry\n"
          ],
          "name": "stdout"
        }
      ]
    },
    {
      "cell_type": "code",
      "metadata": {
        "id": "V7ZO_1MCbyEY",
        "colab_type": "code",
        "colab": {
          "base_uri": "https://localhost:8080/",
          "height": 68
        },
        "outputId": "700bedc2-631d-4653-ed29-359a44bf1974"
      },
      "source": [
        "# イテレーターを並列処理するためにはzip()を使う\n",
        "\n",
        "longest_name = None\n",
        "max_count = 0\n",
        "\n",
        "names = [\"Cecilia\", \"Lise\", \"Marie\"]\n",
        "counts = [len(n) for n in names]\n",
        "\n",
        "# Before\n",
        "for i, name in enumerate(names):\n",
        "  count = counts[i]\n",
        "  if count > max_count:\n",
        "    longest_name = name\n",
        "    max_count = count\n",
        "\n",
        "print(f\"{longest_name}: {max_count}\")\n",
        "\n",
        "# After\n",
        "\n",
        "for name, count in zip(names, counts):\n",
        "  if count > max_count:\n",
        "    longest_name = name\n",
        "    max_count = count\n",
        "\n",
        "print(f\"{longest_name}: {max_count}\")\n",
        "\n",
        "\n",
        "# zip()の出力がイテレーターの最短の出力であることに注意\n",
        "# itertoolsのziolongestを使って、最長に出力をあわせることができる。\n",
        "\n",
        "names.append(\"Rosalind\")\n",
        "\n",
        "import itertools\n",
        "\n",
        "# 欠損値はデフォルトでNoneになるので、fillvalueで欠損値を補完できる。\n",
        "for name, count in itertools.zip_longest(names, counts, fillvalue=10):\n",
        "  if count > max_count:\n",
        "    longest_name = name\n",
        "    max_count = count  \n",
        "\n",
        "print(f\"{longest_name}: {max_count}\")"
      ],
      "execution_count": 5,
      "outputs": [
        {
          "output_type": "stream",
          "text": [
            "Cecilia: 7\n",
            "Cecilia: 7\n",
            "Rosalind: 10\n"
          ],
          "name": "stdout"
        }
      ]
    },
    {
      "cell_type": "code",
      "metadata": {
        "id": "CY76dupamWeY",
        "colab_type": "code",
        "colab": {
          "base_uri": "https://localhost:8080/",
          "height": 85
        },
        "outputId": "407fe02d-2f28-423f-bbc8-d6d7f271c2ab"
      },
      "source": [
        "# for, while文の後のelse文は機能としては用意されているが、使わない。break文がループ中で実行されると、elseは実行されないなど、振る舞いが直感的ではなく、誤解を生みやすい。\n",
        "\n",
        "for i in range(3):\n",
        "  print(i)\n",
        "else:\n",
        "  print(\"ELSE\")\n"
      ],
      "execution_count": 6,
      "outputs": [
        {
          "output_type": "stream",
          "text": [
            "0\n",
            "1\n",
            "2\n",
            "ELSE\n"
          ],
          "name": "stdout"
        }
      ]
    },
    {
      "cell_type": "code",
      "metadata": {
        "id": "BTRw1FCMnTI7",
        "colab_type": "code",
        "colab": {
          "base_uri": "https://localhost:8080/",
          "height": 35
        },
        "outputId": "97a45622-96f7-4b04-c327-6277c02b6736"
      },
      "source": [
        "# Walrus Operator(ウォーラス演算子) Python 3.8以降でのみ。代入・評価というステップを一行で記述できる。\n",
        "\n",
        "def out_of_stock():\n",
        "  print(\"out of stock\")\n",
        "\n",
        "class Fruit:\n",
        "\n",
        "  def __init__(self):\n",
        "    self.apple = 5\n",
        "    self.banana = 5\n",
        "    self.lemon = 5\n",
        "\n",
        "  def make_apple_cider(self):\n",
        "    self.banana -= 4\n",
        "\n",
        "  def make_banana_smoothie(self):\n",
        "    self.banana -= 2\n",
        "\n",
        "  def make_lemonade(self):\n",
        "    self.lemon -= 1\n",
        "\n",
        "# Before \n",
        "fruit = Fruit()\n",
        "count = fruit.lemon\n",
        "if count:\n",
        "  fruit.make_lemonade()\n",
        "else:\n",
        "  out_of_stock()\n",
        "\n",
        "\"\"\"\n",
        "代入・評価というステップを一行で記述できる。\n",
        "\n",
        "After (Python 3.8以降でのみ。)\n",
        "if count := fruit.lemon:\n",
        "  fruit.make_lemonade()\n",
        "else:\n",
        "  out_of_stock()\n",
        "\"\"\"\n"
      ],
      "execution_count": 26,
      "outputs": [
        {
          "output_type": "execute_result",
          "data": {
            "application/vnd.google.colaboratory.intrinsic+json": {
              "type": "string"
            },
            "text/plain": [
              "'\\nAfter (Python 3.8以降でのみ。)\\nif count := fruit.lemon:\\n  fruit.make_lemonade()\\nelse:\\n  out_of_stock()\\n'"
            ]
          },
          "metadata": {
            "tags": []
          },
          "execution_count": 26
        }
      ]
    },
    {
      "cell_type": "code",
      "metadata": {
        "id": "c1aFPbEatKFx",
        "colab_type": "code",
        "colab": {
          "base_uri": "https://localhost:8080/",
          "height": 35
        },
        "outputId": "9c517182-ccdb-42e0-a604-3b232a9f29cb"
      },
      "source": [
        "# Walrus Operator(ウォーラス演算子) Python 3.8以降でのみ。他言語でのSwitch文のような文法で記述できる\n",
        "\n",
        "class Fruit:\n",
        "  def __init__(self):\n",
        "    self.apple = 5\n",
        "    self.banana = 5\n",
        "    self.lemon = 5\n",
        "\n",
        "  def make_apple_cider(self):\n",
        "    self.banana -= 4\n",
        "\n",
        "  def make_banana_smoothie(self):\n",
        "    self.banana -= 2\n",
        "\n",
        "  def make_lemonade(self):\n",
        "    self.lemon -= 1\n",
        "\n",
        "# 下記の優先順位で飲み物をつくるケース\n",
        "# 第一に banana_smoothie\n",
        "# 第二に apple_cider\n",
        "# 第三に lemonade\n",
        "\n",
        "\n",
        "fruit = Fruit()\n",
        "\n",
        "# Before\n",
        "count = fruit.banana\n",
        "if count >= 2:\n",
        "  fruit.make_banana_smoothie()\n",
        "else:\n",
        "  count = fruit.apple\n",
        "  if count >= 4:\n",
        "    fruit.make_apple_cider()\n",
        "  else:\n",
        "    count = fruit.lemonade\n",
        "    if count >= 1:\n",
        "      fruit.make_lemonade()\n",
        "    else:\n",
        "      print(\"Sorry\")\n",
        "\n",
        "# After\n",
        "\n",
        "\"\"\"\n",
        "Python 3.8以降のみ\n",
        "if (count := fruit.banana >= 2):\n",
        "  fruit.make_banana_smoothie()\n",
        "elif (count := fruit.apple >= 4):\n",
        "  fruit.make_apple_cider()\n",
        "elif (count := fruit.lemonade >= 1):\n",
        "  fruit.make_lemonade()\n",
        "else:\n",
        "  print(\"Sorry\")\n",
        "\"\"\""
      ],
      "execution_count": 31,
      "outputs": [
        {
          "output_type": "execute_result",
          "data": {
            "application/vnd.google.colaboratory.intrinsic+json": {
              "type": "string"
            },
            "text/plain": [
              "'\\nPython 3.8以降のみ\\nif (count := fruit.banana >= 2):\\n  fruit.make_banana_smoothie()\\nelif (count := fruit.apple >= 4):\\n  fruit.make_apple_cider()\\nelif (count := fruit.lemonade >= 1):\\n  fruit.make_lemonade()\\nelse:\\n  print(\"Sorry\")\\n'"
            ]
          },
          "metadata": {
            "tags": []
          },
          "execution_count": 31
        }
      ]
    }
  ]
}