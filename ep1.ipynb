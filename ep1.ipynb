{
  "nbformat": 4,
  "nbformat_minor": 0,
  "metadata": {
    "colab": {
      "name": "ep1.ipynb",
      "provenance": [],
      "collapsed_sections": [],
      "authorship_tag": "ABX9TyOiSkPdk5NeG0R+Y7qqgZqV",
      "include_colab_link": true
    },
    "kernelspec": {
      "name": "python3",
      "display_name": "Python 3"
    }
  },
  "cells": [
    {
      "cell_type": "markdown",
      "metadata": {
        "id": "view-in-github",
        "colab_type": "text"
      },
      "source": [
        "<a href=\"https://colab.research.google.com/github/AtaruOhto/python_basic/blob/master/ep1.ipynb\" target=\"_parent\"><img src=\"https://colab.research.google.com/assets/colab-badge.svg\" alt=\"Open In Colab\"/></a>"
      ]
    },
    {
      "cell_type": "markdown",
      "metadata": {
        "id": "VZ_kkOjRTw5z",
        "colab_type": "text"
      },
      "source": [
        "参考文献: Effective Python "
      ]
    },
    {
      "cell_type": "markdown",
      "metadata": {
        "id": "0Z3JFrP0-mbY",
        "colab_type": "text"
      },
      "source": [
        "アンパック構文を使うことで、一時変数なしで、値の交換ができる。"
      ]
    },
    {
      "cell_type": "markdown",
      "metadata": {
        "id": "WclQCapH-jhY",
        "colab_type": "text"
      },
      "source": [
        ""
      ]
    },
    {
      "cell_type": "code",
      "metadata": {
        "id": "MSQ2sxO--gdy",
        "colab_type": "code",
        "colab": {
          "base_uri": "https://localhost:8080/",
          "height": 34
        },
        "outputId": "54a6d5ac-37e8-4039-ad5a-150830637c20"
      },
      "source": [
        "# Before\n",
        "names = [\"pretzel\", \"carrots\", \"arugula\", \"bacon\"]\n",
        "\n",
        "def bubble_sort(a):\n",
        "  for _ in range(len(a)):\n",
        "    for i  in range(1, len(a)):\n",
        "      if a[i] < a[i-1]:\n",
        "        temp = a[i]\n",
        "        a[i] = a[i-1]\n",
        "        a[i-1] = temp\n",
        "\n",
        "bubble_sort(names)\n",
        "print(names)        "
      ],
      "execution_count": 9,
      "outputs": [
        {
          "output_type": "stream",
          "text": [
            "['arugula', 'bacon', 'carrots', 'pretzel']\n"
          ],
          "name": "stdout"
        }
      ]
    },
    {
      "cell_type": "code",
      "metadata": {
        "id": "XqC8C9f3RgNY",
        "colab_type": "code",
        "colab": {
          "base_uri": "https://localhost:8080/",
          "height": 34
        },
        "outputId": "95691473-8a6f-46e3-d91d-c36b7805e5e5"
      },
      "source": [
        "# After\n",
        "\n",
        "names = [\"pretzel\", \"carrots\", \"arugula\", \"bacon\"]\n",
        "\n",
        "def bubble_sort(a):\n",
        "  for _ in range(len(a)):\n",
        "    for i in range(1, len(a)):\n",
        "      if a[i] < a[i-1]:\n",
        "        a[i-1], a[i] = a[i], a[i-1] # スワップ\n",
        "        # アンパック構文を使ってタプルの値を取り出して、交換を行う。\n",
        "        # 値を取り出された無名タプルは最後に破棄される。\n",
        "        # 一時変数による値の退避が必要なくなる\n",
        "\n",
        "bubble_sort(names)\n",
        "print(names)        "
      ],
      "execution_count": 10,
      "outputs": [
        {
          "output_type": "stream",
          "text": [
            "['arugula', 'bacon', 'carrots', 'pretzel']\n"
          ],
          "name": "stdout"
        }
      ]
    },
    {
      "cell_type": "markdown",
      "metadata": {
        "id": "YnBXcC1fT738",
        "colab_type": "text"
      },
      "source": [
        "enumerateと併せて使用する\n"
      ]
    },
    {
      "cell_type": "code",
      "metadata": {
        "id": "67-m796qNPfo",
        "colab_type": "code",
        "colab": {
          "base_uri": "https://localhost:8080/",
          "height": 68
        },
        "outputId": "34d791f4-f0da-47d4-a471-61b681e578cc"
      },
      "source": [
        "# Before\n",
        "snacks = [(\"bacon\", 350), (\"donut\", 240), (\"muffin\", 190)]\n",
        "for i in range(len(snacks)):\n",
        "  item = snacks[i]\n",
        "  name = item[0]\n",
        "  calories = item[1]\n",
        "  print(f\"{name} {calories}\")"
      ],
      "execution_count": 7,
      "outputs": [
        {
          "output_type": "stream",
          "text": [
            "bacon 350\n",
            "donut 240\n",
            "muffin 190\n"
          ],
          "name": "stdout"
        }
      ]
    },
    {
      "cell_type": "code",
      "metadata": {
        "id": "KKMCJ_OgPTr0",
        "colab_type": "code",
        "colab": {
          "base_uri": "https://localhost:8080/",
          "height": 68
        },
        "outputId": "a3e083d5-7447-4616-81b0-d77140a6ef2c"
      },
      "source": [
        "# After\n",
        "snacks = [(\"bacon\", 350), (\"donut\", 240), (\"muffin\", 190)]\n",
        "for rank, (name, calories) in enumerate(snacks):\n",
        "  print(f\"{name} {calories}\")"
      ],
      "execution_count": 8,
      "outputs": [
        {
          "output_type": "stream",
          "text": [
            "bacon 350\n",
            "donut 240\n",
            "muffin 190\n"
          ],
          "name": "stdout"
        }
      ]
    },
    {
      "cell_type": "code",
      "metadata": {
        "id": "v0-wk7EDSbV5",
        "colab_type": "code",
        "colab": {}
      },
      "source": [
        ""
      ],
      "execution_count": null,
      "outputs": []
    }
  ]
}