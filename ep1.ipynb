{
  "nbformat": 4,
  "nbformat_minor": 0,
  "metadata": {
    "colab": {
      "name": "ep1.ipynb",
      "provenance": [],
      "collapsed_sections": [],
      "authorship_tag": "ABX9TyOoAJgZZAi5mNEcSnn/aujB",
      "include_colab_link": true
    },
    "kernelspec": {
      "name": "python3",
      "display_name": "Python 3"
    }
  },
  "cells": [
    {
      "cell_type": "markdown",
      "metadata": {
        "id": "view-in-github",
        "colab_type": "text"
      },
      "source": [
        "<a href=\"https://colab.research.google.com/github/AtaruOhto/python_basic/blob/master/ep1.ipynb\" target=\"_parent\"><img src=\"https://colab.research.google.com/assets/colab-badge.svg\" alt=\"Open In Colab\"/></a>"
      ]
    },
    {
      "cell_type": "markdown",
      "metadata": {
        "id": "VZ_kkOjRTw5z",
        "colab_type": "text"
      },
      "source": [
        "参考文献: Effective Python "
      ]
    },
    {
      "cell_type": "markdown",
      "metadata": {
        "id": "0Z3JFrP0-mbY",
        "colab_type": "text"
      },
      "source": [
        "アンパック構文を使うことで、一時変数なしで、値の交換ができる。"
      ]
    },
    {
      "cell_type": "markdown",
      "metadata": {
        "id": "WclQCapH-jhY",
        "colab_type": "text"
      },
      "source": [
        ""
      ]
    },
    {
      "cell_type": "code",
      "metadata": {
        "id": "MSQ2sxO--gdy",
        "colab_type": "code",
        "colab": {
          "base_uri": "https://localhost:8080/",
          "height": 34
        },
        "outputId": "54a6d5ac-37e8-4039-ad5a-150830637c20"
      },
      "source": [
        "\n",
        "names = [\"pretzel\", \"carrots\", \"arugula\", \"bacon\"]\n",
        "\n",
        "# Before\n",
        "def bubble_sort(a):\n",
        "  for _ in range(len(a)):\n",
        "    for i  in range(1, len(a)):\n",
        "      if a[i] < a[i-1]:\n",
        "        temp = a[i]\n",
        "        a[i] = a[i-1]\n",
        "        a[i-1] = temp\n",
        "\n",
        "bubble_sort(names)\n",
        "print(names)        \n",
        "\n",
        "\n",
        "# After\n",
        "def bubble_sort(a):\n",
        "  for _ in range(len(a)):\n",
        "    for i in range(1, len(a)):\n",
        "      if a[i] < a[i-1]:\n",
        "        a[i-1], a[i] = a[i], a[i-1] # スワップ\n",
        "        # アンパック構文を使ってタプルの値を取り出して、交換を行う。\n",
        "        # 値を取り出された無名タプルは最後に破棄される。\n",
        "        # 一時変数による値の退避が必要なくなる\n",
        "\n",
        "bubble_sort(names)\n",
        "print(names)        "
      ],
      "execution_count": 9,
      "outputs": [
        {
          "output_type": "stream",
          "text": [
            "['arugula', 'bacon', 'carrots', 'pretzel']\n"
          ],
          "name": "stdout"
        }
      ]
    },
    {
      "cell_type": "markdown",
      "metadata": {
        "id": "YnBXcC1fT738",
        "colab_type": "text"
      },
      "source": [
        "enumerateと併せて使用する\n"
      ]
    },
    {
      "cell_type": "code",
      "metadata": {
        "id": "67-m796qNPfo",
        "colab_type": "code",
        "colab": {
          "base_uri": "https://localhost:8080/",
          "height": 119
        },
        "outputId": "1f9d2191-a56f-409f-c1e4-dbe980ac26fa"
      },
      "source": [
        "# Before\n",
        "snacks = [(\"bacon\", 350), (\"donut\", 240), (\"muffin\", 190)]\n",
        "for i in range(len(snacks)):\n",
        "  item = snacks[i]\n",
        "  name = item[0]\n",
        "  calories = item[1]\n",
        "  print(f\"{name} {calories}\")\n",
        "\n",
        "# After\n",
        "snacks = [(\"bacon\", 350), (\"donut\", 240), (\"muffin\", 190)]\n",
        "for rank, (name, calories) in enumerate(snacks):\n",
        "  print(f\"{name} {calories}\")  "
      ],
      "execution_count": 20,
      "outputs": [
        {
          "output_type": "stream",
          "text": [
            "bacon 350\n",
            "donut 240\n",
            "muffin 190\n",
            "bacon 350\n",
            "donut 240\n",
            "muffin 190\n"
          ],
          "name": "stdout"
        }
      ]
    },
    {
      "cell_type": "code",
      "metadata": {
        "id": "v0-wk7EDSbV5",
        "colab_type": "code",
        "colab": {
          "base_uri": "https://localhost:8080/",
          "height": 187
        },
        "outputId": "4ceb8798-cd4d-43c9-8935-9444f964a1ad"
      },
      "source": [
        "# データに加えて、インデックスが必要な場合、rangeではなく enumerableを使う\n",
        "\n",
        "# Before\n",
        "flavor_list = [\"vanilla\", \"chocolate\", \"pecan\", \"strawberry\"]\n",
        "for i in range(len(flavor_list)):\n",
        "  print(f\"{i + 1} {flavor_list[i]}\")\n",
        "\n",
        "# After\n",
        "# enumerateの第二引数でカウントの開始数を指定できる。\n",
        "for i, flavor in enumerate(flavor_list, 1):  \n",
        "  print(f\"{i} {flavor}\")\n",
        "\n"
      ],
      "execution_count": 19,
      "outputs": [
        {
          "output_type": "stream",
          "text": [
            "Before\n",
            "1 vanilla\n",
            "2 chocolate\n",
            "3 pecan\n",
            "4 strawberry\n",
            "After\n",
            "1 vanilla\n",
            "2 chocolate\n",
            "3 pecan\n",
            "4 strawberry\n"
          ],
          "name": "stdout"
        }
      ]
    },
    {
      "cell_type": "code",
      "metadata": {
        "id": "V7ZO_1MCbyEY",
        "colab_type": "code",
        "colab": {
          "base_uri": "https://localhost:8080/",
          "height": 51
        },
        "outputId": "8dfbf86a-f135-49ae-d6f2-ec4b7cd249f2"
      },
      "source": [
        "# イテレーターを並列処理するためにはzip()を使う\n",
        "\n",
        "longest_name = None\n",
        "max_count = 0\n",
        "\n",
        "names = [\"Cecilia\", \"Lise\", \"Marie\"]\n",
        "counts = [len(n) for n in names]\n",
        "\n",
        "# Before\n",
        "for i, name in enumerate(names):\n",
        "  count = counts[i]\n",
        "  if count > max_count:\n",
        "    longest_name = name\n",
        "    max_count = count\n",
        "\n",
        "print(f\"{longest_name}: {max_count}\")\n",
        "\n",
        "# After\n",
        "\n",
        "for name, count in zip(names, counts):\n",
        "  if count > max_count:\n",
        "    longest_name = name\n",
        "    max_count = count\n",
        "\n",
        "print(f\"{longest_name}: {max_count}\")"
      ],
      "execution_count": 28,
      "outputs": [
        {
          "output_type": "stream",
          "text": [
            "Cecilia: 7\n",
            "Cecilia: 7\n"
          ],
          "name": "stdout"
        }
      ]
    }
  ]
}